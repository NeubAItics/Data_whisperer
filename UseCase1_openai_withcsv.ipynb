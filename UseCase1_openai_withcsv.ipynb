{
  "nbformat": 4,
  "nbformat_minor": 0,
  "metadata": {
    "colab": {
      "private_outputs": true,
      "provenance": []
    },
    "kernelspec": {
      "name": "python3",
      "display_name": "Python 3"
    },
    "language_info": {
      "name": "python"
    }
  },
  "cells": [
    {
      "cell_type": "code",
      "source": [
        " pip install openai==0.28"
      ],
      "metadata": {
        "id": "JxjqVtHvKrAK"
      },
      "execution_count": null,
      "outputs": []
    },
    {
      "cell_type": "code",
      "execution_count": null,
      "metadata": {
        "id": "_f_BOEAf61gX"
      },
      "outputs": [],
      "source": [
        "!pip install langchain\n",
        "!pip install langchain_openai\n",
        "!pip install langchain_experimental"
      ]
    },
    {
      "cell_type": "code",
      "source": [
        "import pandas as pd\n",
        "df = pd.read_csv('walter_johnson.csv')\n",
        "df.head()"
      ],
      "metadata": {
        "id": "aCaePq9X68nw"
      },
      "execution_count": null,
      "outputs": []
    },
    {
      "cell_type": "code",
      "source": [
        "import os\n",
        "os.environ[\"OPENAI_API_KEY\"] = \"apikey\""
      ],
      "metadata": {
        "id": "v-y0GIXw7GhF"
      },
      "execution_count": null,
      "outputs": []
    },
    {
      "cell_type": "code",
      "source": [
        "from langchain_experimental.agents.agent_toolkits import create_csv_agent\n",
        "from langchain_openai import ChatOpenAI"
      ],
      "metadata": {
        "id": "rud6tm3G7PMU"
      },
      "execution_count": null,
      "outputs": []
    },
    {
      "cell_type": "code",
      "source": [
        "llm = ChatOpenAI(temperature=0.5)\n",
        "agent_executor = create_csv_agent(llm, 'walter_johnson.csv', verbose=True,allow_dangerous_code=True)"
      ],
      "metadata": {
        "id": "dg-CkzKA7Ra1"
      },
      "execution_count": null,
      "outputs": []
    },
    {
      "cell_type": "code",
      "source": [
        "df['W'].sum()"
      ],
      "metadata": {
        "id": "nVyHgg8N7iZu"
      },
      "execution_count": null,
      "outputs": []
    },
    {
      "cell_type": "code",
      "source": [
        "agent_executor.invoke(\"How many total wins are there?\")"
      ],
      "metadata": {
        "id": "A74jMPeI7kxk"
      },
      "execution_count": null,
      "outputs": []
    }
  ]
}